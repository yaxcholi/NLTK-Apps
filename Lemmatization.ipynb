{
 "cells": [
  {
   "cell_type": "code",
   "execution_count": 5,
   "metadata": {},
   "outputs": [
    {
     "name": "stderr",
     "output_type": "stream",
     "text": [
      "[nltk_data] Downloading package wordnet to /Users/jason/nltk_data...\n"
     ]
    },
    {
     "data": {
      "text/plain": [
       "True"
      ]
     },
     "execution_count": 5,
     "metadata": {},
     "output_type": "execute_result"
    }
   ],
   "source": [
    "import nltk\n",
    "from nltk.stem import WordNetLemmatizer\n",
    "nltk.download('wordnet')"
   ]
  },
  {
   "cell_type": "markdown",
   "metadata": {},
   "source": [
    "## Wordnet Lemmatizer\n",
    "Lemmatization technique is like stemming. The output we will get after lemmatization is called ‘lemma’, which is a root word rather than root stem, the output of stemming. After lemmatization, we will be getting a valid word that means the same thing.\n",
    "\n",
    "NLTK provides WordNetLemmatizer class which is a thin wrapper around the wordnet corpus. This class uses morphy() function to the WordNet CorpusReader class to find a lemma. Let us understand it with an example −\n"
   ]
  },
  {
   "cell_type": "code",
   "execution_count": 6,
   "metadata": {},
   "outputs": [],
   "source": [
    "lemmatizer=WordNetLemmatizer()"
   ]
  },
  {
   "cell_type": "markdown",
   "metadata": {},
   "source": [
    "## Lemmatization with POS Tags\n",
    "\n",
    "Lemmatization is the process of reducing a word to its base or dictionary form (lemma). Using **POS (Part of Speech) tags** helps the lemmatizer to correctly identify the context of the word, resulting in more accurate outputs.\n",
    "\n",
    "---\n",
    "\n",
    "### POS Tag Abbreviations Used:\n",
    "- **Noun (`n`)** – Refers to people, places, things, or ideas  \n",
    "- **Verb (`v`)** – Action words or states  \n",
    "- **Adjective (`a`)** – Describes a noun  \n",
    "- **Adverb (`r`)** – Describes a verb, adjective, or another adverb  \n",
    "\n",
    "---"
   ]
  },
  {
   "cell_type": "code",
   "execution_count": 11,
   "metadata": {},
   "outputs": [
    {
     "data": {
      "text/plain": [
       "('fly', 'flying')"
      ]
     },
     "execution_count": 11,
     "metadata": {},
     "output_type": "execute_result"
    }
   ],
   "source": [
    "\n",
    "#POS- Noun-n\n",
    "#verb-v\n",
    "#adjective-a\n",
    "#adverb-r\n",
    "\n",
    "lemmatizer.lemmatize(\"flying\",pos='v'), lemmatizer.lemmatize(\"flying\",pos='a')\n",
    "\n",
    "# When setting pos to v it correctly gives us the lemma, \n",
    "# but when using a for adverb it doesn't give us the correct lemma anymore."
   ]
  },
  {
   "cell_type": "code",
   "execution_count": 13,
   "metadata": {},
   "outputs": [
    {
     "name": "stdout",
     "output_type": "stream",
     "text": [
      "eating==eat\n",
      "eats==eat\n",
      "eaten==eat\n",
      "writing==write\n",
      "writes==write\n",
      "programming==program\n",
      "programs==program\n",
      "history==history\n",
      "finally==finally\n",
      "finalized==finalize\n"
     ]
    }
   ],
   "source": [
    "words=[\"eating\",\"eats\",\"eaten\",\"writing\",\"writes\",\"programming\",\"programs\",\"history\",\"finally\",\"finalized\"]\n",
    "for word in words:\n",
    "    print(word+\"==\"+lemmatizer.lemmatize(word,pos='v'))"
   ]
  }
 ],
 "metadata": {
  "kernelspec": {
   "display_name": ".venv",
   "language": "python",
   "name": "python3"
  },
  "language_info": {
   "codemirror_mode": {
    "name": "ipython",
    "version": 3
   },
   "file_extension": ".py",
   "mimetype": "text/x-python",
   "name": "python",
   "nbconvert_exporter": "python",
   "pygments_lexer": "ipython3",
   "version": "3.11.5"
  }
 },
 "nbformat": 4,
 "nbformat_minor": 2
}
